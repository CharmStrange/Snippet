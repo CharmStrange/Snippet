{
  "nbformat": 4,
  "nbformat_minor": 0,
  "metadata": {
    "colab": {
      "provenance": []
    },
    "kernelspec": {
      "name": "python3",
      "display_name": "Python 3"
    },
    "language_info": {
      "name": "python"
    }
  },
  "cells": [
    {
      "cell_type": "code",
      "source": [
        "import pandas as pd\n",
        "import random\n",
        "\n",
        "DailyData = []\n",
        "TestData = []\n",
        "\n",
        "# Define the range for each column\n",
        "range_data = [(0, 5000), (0, 5000), (0, 20), (0, 10)]\n",
        "\n",
        "# Set the number of additional data points\n",
        "num_additional_data = 500\n",
        "\n",
        "# Generate and add additional data\n",
        "for _ in range(num_additional_data):\n",
        "    additional_data = [random.randint(range_data[i][0], range_data[i][1]) for i in range(len(range_data))]\n",
        "    DailyData.append(additional_data)\n",
        "\n",
        "for _ in range(num_additional_data):\n",
        "    additional_data = [random.randint(range_data[i][0], range_data[i][1]) for i in range(len(range_data))]\n",
        "    TestData.append(additional_data)\n",
        "\n",
        "# Print the updated data\n",
        "for data in DailyData:\n",
        "    print(data)\n",
        "\n",
        "for data in TestData:\n",
        "    print(data)\n",
        "\n",
        "Columns = ['Number of Restock', 'Number of sold items', 'Number of ADS', 'Number of Visitors']\n",
        "Data = pd.DataFrame(DailyData, columns=Columns)\n",
        "Data_t = pd.DataFrame(TestData, columns=Columns)"
      ],
      "metadata": {
        "id": "d3lqMFGMOezz"
      },
      "execution_count": null,
      "outputs": []
    },
    {
      "cell_type": "code",
      "source": [
        "import torch\n",
        "import torch.nn as nn\n",
        "import torch.optim as optim\n",
        "\n",
        "# Define the neural network model\n",
        "class NeuralNetwork(nn.Module):\n",
        "    def __init__(self, input_size, hidden_size, output_size):\n",
        "        super(NeuralNetwork, self).__init__()\n",
        "        self.fc1 = nn.Linear(input_size, hidden_size)\n",
        "        self.fc2 = nn.Linear(hidden_size, output_size)\n",
        "        self.relu = nn.ReLU()\n",
        "\n",
        "    def forward(self, x):\n",
        "        x = self.fc1(x)\n",
        "        x = self.relu(x)\n",
        "        x = self.fc2(x)\n",
        "        return x\n",
        "\n",
        "# Set the hyperparameters\n",
        "input_size = 2  # 광고 수, 방문자 수\n",
        "hidden_size = 8\n",
        "output_size = 1\n",
        "learning_rate = 0.01\n",
        "num_epochs = 10\n",
        "batch_size = 32\n",
        "\n",
        "X_train = torch.tensor(Data[['Number of ADS', 'Number of Visitors']].values, dtype=torch.float32)\n",
        "y_train = torch.tensor(Data['Number of Visitors'].values, dtype=torch.float32)\n",
        "X_test = torch.tensor(Data_t[['Number of ADS', 'Number of Visitors']].values, dtype=torch.float32)\n",
        "y_test = torch.tensor(Data_t['Number of Visitors'].values, dtype=torch.float32)\n",
        "\n",
        "# Create the neural network model\n",
        "model = NeuralNetwork(input_size, hidden_size, output_size)\n",
        "\n",
        "# Define the loss function and optimizer\n",
        "criterion = nn.MSELoss()\n",
        "optimizer = optim.SGD(model.parameters(), lr=learning_rate)\n",
        "\n",
        "# Training loop\n",
        "for epoch in range(num_epochs):\n",
        "    # Mini-batch training\n",
        "    for i in range(0, len(X_train), batch_size):\n",
        "        # Prepare the mini-batch\n",
        "        inputs = X_train[i:i+batch_size]\n",
        "        targets = y_train[i:i+batch_size]\n",
        "\n",
        "        # Forward pass\n",
        "        outputs = model(inputs)\n",
        "        loss = criterion(outputs, targets)\n",
        "\n",
        "        # Backward pass and optimization\n",
        "        optimizer.zero_grad()\n",
        "        loss.backward()\n",
        "        optimizer.step()\n",
        "\n",
        "    # Print the loss for every epoch\n",
        "    print(f'Epoch {epoch+1}/{num_epochs}, Loss: {loss.item()}')\n",
        "\n",
        "# Evaluation\n",
        "model.eval()\n",
        "with torch.no_grad():\n",
        "    # Forward pass on test data\n",
        "    test_outputs = model(X_test)\n",
        "    test_predictions = test_outputs.round()  # 반올림하여 예측값 생성\n",
        "    accuracy = (test_predictions == y_test).float().mean()\n",
        "    print(f'Test Accuracy: {accuracy.item()}')"
      ],
      "metadata": {
        "colab": {
          "base_uri": "https://localhost:8080/"
        },
        "id": "X6H0y5z3JBk5",
        "outputId": "07232d46-3dd2-440e-88b2-6d8b4727c7ca"
      },
      "execution_count": 26,
      "outputs": [
        {
          "output_type": "stream",
          "name": "stdout",
          "text": [
            "Epoch 1/10, Loss: 11.101415634155273\n",
            "Epoch 2/10, Loss: 9.389911651611328\n",
            "Epoch 3/10, Loss: 9.194513320922852\n",
            "Epoch 4/10, Loss: 9.049145698547363\n",
            "Epoch 5/10, Loss: 8.930463790893555\n",
            "Epoch 6/10, Loss: 8.837577819824219\n",
            "Epoch 7/10, Loss: 8.761648178100586\n",
            "Epoch 8/10, Loss: 8.703571319580078\n",
            "Epoch 9/10, Loss: 8.654668807983398\n",
            "Epoch 10/10, Loss: 8.626051902770996\n",
            "Test Accuracy: 0.08904000371694565\n"
          ]
        },
        {
          "output_type": "stream",
          "name": "stderr",
          "text": [
            "/usr/local/lib/python3.10/dist-packages/torch/nn/modules/loss.py:536: UserWarning: Using a target size (torch.Size([32])) that is different to the input size (torch.Size([32, 1])). This will likely lead to incorrect results due to broadcasting. Please ensure they have the same size.\n",
            "  return F.mse_loss(input, target, reduction=self.reduction)\n",
            "/usr/local/lib/python3.10/dist-packages/torch/nn/modules/loss.py:536: UserWarning: Using a target size (torch.Size([20])) that is different to the input size (torch.Size([20, 1])). This will likely lead to incorrect results due to broadcasting. Please ensure they have the same size.\n",
            "  return F.mse_loss(input, target, reduction=self.reduction)\n"
          ]
        }
      ]
    }
  ]
}